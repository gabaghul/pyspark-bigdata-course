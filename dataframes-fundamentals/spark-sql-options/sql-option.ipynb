{
 "cells": [
  {
   "cell_type": "markdown",
   "metadata": {},
   "source": [
    "# **SQL Options in Spark**\n",
    "\n",
    "PySpark provides two main options when it comes to using straight SQL. Spark SQL and SQL Transformer.\n",
    "\n",
    "### **1) Spark SQL**\n",
    "\n",
    "Spark TempView provides two functions that allow users to run **SQL** queries against a Spark Dataframe.\n",
    "\n",
    "- **createOrReplaceTempView:** The lifetime of this temporary view is tied to the SparkSession that was used to create the dataset. It creates (or replaces if that view name already exists) a lazily evaluated \"view\" that you can then use like a hive table in Spark SQL. It does not persist to memory unless you cache the dataset that underpins the view.\n",
    "- **createGlobalTempView:** The lifetime of this temporary view is tied to this Spark application. This feature is useful when you want to share data among different sessions and keep alive until your application ends.\n",
    "  \n",
    "A **Spark Session vs. Spark Application:**\n",
    "\n",
    "**Spark application** can be used:\n",
    "- for a single batch job;\n",
    "- an interactive session with multiple jobs;\n",
    "- a long-lived server continually satisfying requests;\n",
    "- A Spark job can consist of more than just a single map and reduce;\n",
    "- can constst of more than one Spark Session.\n",
    "  \n",
    "A **Spark Session** on the other hand:\n",
    "- is an interaction between two or more entities;\n",
    "- can be created without creating SparkConf, SparkContext or SQLContext, (they're encapsulated within the SparkSession which is new to Spark 2.0).\n",
    "\n",
    "### **2) SQL Transformer**\n",
    "\n",
    "You also have the option to use the SQL transformer option where you can write free-form SQL scripts as well.\n",
    "\n",
    "# **SQL Options within regular PySpark calls**\n",
    "\n",
    "1. The expr function in PySpark SQL Function library;\n",
    "2. PySpark selectExpr function\n",
    "\n",
    "We will go over all these in detail so buckel up!"
   ]
  },
  {
   "cell_type": "markdown",
   "metadata": {},
   "source": [
    "Let's start with Spark SQL. But first we need to create a Spark Session."
   ]
  },
  {
   "cell_type": "code",
   "execution_count": 2,
   "metadata": {},
   "outputs": [
    {
     "data": {
      "text/html": [
       "\n",
       "            <div>\n",
       "                <p><b>SparkSession - in-memory</b></p>\n",
       "                \n",
       "        <div>\n",
       "            <p><b>SparkContext</b></p>\n",
       "\n",
       "            <p><a href=\"http://172.18.19.233:4040\">Spark UI</a></p>\n",
       "\n",
       "            <dl>\n",
       "              <dt>Version</dt>\n",
       "                <dd><code>v3.2.1</code></dd>\n",
       "              <dt>Master</dt>\n",
       "                <dd><code>local[*]</code></dd>\n",
       "              <dt>AppName</dt>\n",
       "                <dd><code>SparkSQL</code></dd>\n",
       "            </dl>\n",
       "        </div>\n",
       "        \n",
       "            </div>\n",
       "        "
      ],
      "text/plain": [
       "<pyspark.sql.session.SparkSession at 0x7fae985d31f0>"
      ]
     },
     "execution_count": 2,
     "metadata": {},
     "output_type": "execute_result"
    }
   ],
   "source": [
    "import pyspark\n",
    "from pyspark.sql import SparkSession\n",
    "\n",
    "spark = SparkSession.builder.appName(\"SparkSQL\").getOrCreate()\n",
    "spark"
   ]
  },
  {
   "cell_type": "code",
   "execution_count": 6,
   "metadata": {},
   "outputs": [
    {
     "name": "stdout",
     "output_type": "stream",
     "text": [
      "root\n",
      " |-- 12 months ending: string (nullable = true)\n",
      " |-- PFA: string (nullable = true)\n",
      " |-- Region: string (nullable = true)\n",
      " |-- Offence: string (nullable = true)\n",
      " |-- Rolling year total number of offences: integer (nullable = true)\n",
      "\n"
     ]
    }
   ],
   "source": [
    "path = './data/'\n",
    "\n",
    "crime = spark.read.csv(path+'rec-crime-pfa.csv', header=True, inferSchema=True)\n",
    "crime.printSchema()"
   ]
  },
  {
   "cell_type": "code",
   "execution_count": 7,
   "metadata": {},
   "outputs": [
    {
     "data": {
      "text/html": [
       "<div>\n",
       "<style scoped>\n",
       "    .dataframe tbody tr th:only-of-type {\n",
       "        vertical-align: middle;\n",
       "    }\n",
       "\n",
       "    .dataframe tbody tr th {\n",
       "        vertical-align: top;\n",
       "    }\n",
       "\n",
       "    .dataframe thead th {\n",
       "        text-align: right;\n",
       "    }\n",
       "</style>\n",
       "<table border=\"1\" class=\"dataframe\">\n",
       "  <thead>\n",
       "    <tr style=\"text-align: right;\">\n",
       "      <th></th>\n",
       "      <th>12 months ending</th>\n",
       "      <th>PFA</th>\n",
       "      <th>Region</th>\n",
       "      <th>Offence</th>\n",
       "      <th>Rolling year total number of offences</th>\n",
       "    </tr>\n",
       "  </thead>\n",
       "  <tbody>\n",
       "    <tr>\n",
       "      <th>0</th>\n",
       "      <td>31/03/2003</td>\n",
       "      <td>Avon and Somerset</td>\n",
       "      <td>South West</td>\n",
       "      <td>All other theft offences</td>\n",
       "      <td>25959</td>\n",
       "    </tr>\n",
       "    <tr>\n",
       "      <th>1</th>\n",
       "      <td>31/03/2003</td>\n",
       "      <td>Avon and Somerset</td>\n",
       "      <td>South West</td>\n",
       "      <td>Bicycle theft</td>\n",
       "      <td>3090</td>\n",
       "    </tr>\n",
       "    <tr>\n",
       "      <th>2</th>\n",
       "      <td>31/03/2003</td>\n",
       "      <td>Avon and Somerset</td>\n",
       "      <td>South West</td>\n",
       "      <td>Criminal damage and arson</td>\n",
       "      <td>26202</td>\n",
       "    </tr>\n",
       "    <tr>\n",
       "      <th>3</th>\n",
       "      <td>31/03/2003</td>\n",
       "      <td>Avon and Somerset</td>\n",
       "      <td>South West</td>\n",
       "      <td>Death or serious injury caused by illegal driving</td>\n",
       "      <td>2</td>\n",
       "    </tr>\n",
       "    <tr>\n",
       "      <th>4</th>\n",
       "      <td>31/03/2003</td>\n",
       "      <td>Avon and Somerset</td>\n",
       "      <td>South West</td>\n",
       "      <td>Domestic burglary</td>\n",
       "      <td>14561</td>\n",
       "    </tr>\n",
       "  </tbody>\n",
       "</table>\n",
       "</div>"
      ],
      "text/plain": [
       "  12 months ending                PFA      Region  \\\n",
       "0       31/03/2003  Avon and Somerset  South West   \n",
       "1       31/03/2003  Avon and Somerset  South West   \n",
       "2       31/03/2003  Avon and Somerset  South West   \n",
       "3       31/03/2003  Avon and Somerset  South West   \n",
       "4       31/03/2003  Avon and Somerset  South West   \n",
       "\n",
       "                                             Offence  \\\n",
       "0                           All other theft offences   \n",
       "1                                      Bicycle theft   \n",
       "2                          Criminal damage and arson   \n",
       "3  Death or serious injury caused by illegal driving   \n",
       "4                                  Domestic burglary   \n",
       "\n",
       "   Rolling year total number of offences  \n",
       "0                                  25959  \n",
       "1                                   3090  \n",
       "2                                  26202  \n",
       "3                                      2  \n",
       "4                                  14561  "
      ]
     },
     "execution_count": 7,
     "metadata": {},
     "output_type": "execute_result"
    }
   ],
   "source": [
    "crime.limit(5).toPandas()"
   ]
  },
  {
   "cell_type": "code",
   "execution_count": 9,
   "metadata": {},
   "outputs": [
    {
     "name": "stdout",
     "output_type": "stream",
     "text": [
      "root\n",
      " |-- 12_month_ending: string (nullable = true)\n",
      " |-- PFA: string (nullable = true)\n",
      " |-- Region: string (nullable = true)\n",
      " |-- Offence: string (nullable = true)\n",
      " |-- crime_count: integer (nullable = true)\n",
      "\n"
     ]
    }
   ],
   "source": [
    "df = crime.withColumnRenamed('12 months ending', '12_month_ending') \\\n",
    "        .withColumnRenamed('Rolling year total number of offences', 'crime_count')\n",
    "\n",
    "df.printSchema()"
   ]
  },
  {
   "cell_type": "code",
   "execution_count": 10,
   "metadata": {},
   "outputs": [],
   "source": [
    "df.createOrReplaceTempView('tempview')"
   ]
  },
  {
   "cell_type": "code",
   "execution_count": 13,
   "metadata": {},
   "outputs": [
    {
     "data": {
      "text/html": [
       "<div>\n",
       "<style scoped>\n",
       "    .dataframe tbody tr th:only-of-type {\n",
       "        vertical-align: middle;\n",
       "    }\n",
       "\n",
       "    .dataframe tbody tr th {\n",
       "        vertical-align: top;\n",
       "    }\n",
       "\n",
       "    .dataframe thead th {\n",
       "        text-align: right;\n",
       "    }\n",
       "</style>\n",
       "<table border=\"1\" class=\"dataframe\">\n",
       "  <thead>\n",
       "    <tr style=\"text-align: right;\">\n",
       "      <th></th>\n",
       "      <th>12_month_ending</th>\n",
       "      <th>PFA</th>\n",
       "      <th>Region</th>\n",
       "      <th>Offence</th>\n",
       "      <th>crime_count</th>\n",
       "    </tr>\n",
       "  </thead>\n",
       "  <tbody>\n",
       "    <tr>\n",
       "      <th>0</th>\n",
       "      <td>31/03/2003</td>\n",
       "      <td>Avon and Somerset</td>\n",
       "      <td>South West</td>\n",
       "      <td>All other theft offences</td>\n",
       "      <td>25959</td>\n",
       "    </tr>\n",
       "    <tr>\n",
       "      <th>1</th>\n",
       "      <td>31/03/2003</td>\n",
       "      <td>Avon and Somerset</td>\n",
       "      <td>South West</td>\n",
       "      <td>Bicycle theft</td>\n",
       "      <td>3090</td>\n",
       "    </tr>\n",
       "    <tr>\n",
       "      <th>2</th>\n",
       "      <td>31/03/2003</td>\n",
       "      <td>Avon and Somerset</td>\n",
       "      <td>South West</td>\n",
       "      <td>Criminal damage and arson</td>\n",
       "      <td>26202</td>\n",
       "    </tr>\n",
       "    <tr>\n",
       "      <th>3</th>\n",
       "      <td>31/03/2003</td>\n",
       "      <td>Avon and Somerset</td>\n",
       "      <td>South West</td>\n",
       "      <td>Domestic burglary</td>\n",
       "      <td>14561</td>\n",
       "    </tr>\n",
       "    <tr>\n",
       "      <th>4</th>\n",
       "      <td>31/03/2003</td>\n",
       "      <td>Avon and Somerset</td>\n",
       "      <td>South West</td>\n",
       "      <td>Drug offences</td>\n",
       "      <td>2308</td>\n",
       "    </tr>\n",
       "  </tbody>\n",
       "</table>\n",
       "</div>"
      ],
      "text/plain": [
       "  12_month_ending                PFA      Region                    Offence  \\\n",
       "0      31/03/2003  Avon and Somerset  South West   All other theft offences   \n",
       "1      31/03/2003  Avon and Somerset  South West              Bicycle theft   \n",
       "2      31/03/2003  Avon and Somerset  South West  Criminal damage and arson   \n",
       "3      31/03/2003  Avon and Somerset  South West          Domestic burglary   \n",
       "4      31/03/2003  Avon and Somerset  South West              Drug offences   \n",
       "\n",
       "   crime_count  \n",
       "0        25959  \n",
       "1         3090  \n",
       "2        26202  \n",
       "3        14561  \n",
       "4         2308  "
      ]
     },
     "execution_count": 13,
     "metadata": {},
     "output_type": "execute_result"
    }
   ],
   "source": [
    "spark.sql('SELECT * FROM tempview WHERE crime_count > 1000').limit(5).toPandas()"
   ]
  },
  {
   "cell_type": "code",
   "execution_count": 14,
   "metadata": {},
   "outputs": [
    {
     "data": {
      "text/html": [
       "<div>\n",
       "<style scoped>\n",
       "    .dataframe tbody tr th:only-of-type {\n",
       "        vertical-align: middle;\n",
       "    }\n",
       "\n",
       "    .dataframe tbody tr th {\n",
       "        vertical-align: top;\n",
       "    }\n",
       "\n",
       "    .dataframe thead th {\n",
       "        text-align: right;\n",
       "    }\n",
       "</style>\n",
       "<table border=\"1\" class=\"dataframe\">\n",
       "  <thead>\n",
       "    <tr style=\"text-align: right;\">\n",
       "      <th></th>\n",
       "      <th>Region</th>\n",
       "      <th>Offence</th>\n",
       "    </tr>\n",
       "  </thead>\n",
       "  <tbody>\n",
       "    <tr>\n",
       "      <th>0</th>\n",
       "      <td>South West</td>\n",
       "      <td>All other theft offences</td>\n",
       "    </tr>\n",
       "    <tr>\n",
       "      <th>1</th>\n",
       "      <td>South West</td>\n",
       "      <td>Bicycle theft</td>\n",
       "    </tr>\n",
       "    <tr>\n",
       "      <th>2</th>\n",
       "      <td>South West</td>\n",
       "      <td>Criminal damage and arson</td>\n",
       "    </tr>\n",
       "    <tr>\n",
       "      <th>3</th>\n",
       "      <td>South West</td>\n",
       "      <td>Domestic burglary</td>\n",
       "    </tr>\n",
       "    <tr>\n",
       "      <th>4</th>\n",
       "      <td>South West</td>\n",
       "      <td>Drug offences</td>\n",
       "    </tr>\n",
       "  </tbody>\n",
       "</table>\n",
       "</div>"
      ],
      "text/plain": [
       "       Region                    Offence\n",
       "0  South West   All other theft offences\n",
       "1  South West              Bicycle theft\n",
       "2  South West  Criminal damage and arson\n",
       "3  South West          Domestic burglary\n",
       "4  South West              Drug offences"
      ]
     },
     "execution_count": 14,
     "metadata": {},
     "output_type": "execute_result"
    }
   ],
   "source": [
    "spark.sql('SELECT Region, Offence FROM tempview WHERE crime_count > 1000').limit(5).toPandas()"
   ]
  },
  {
   "cell_type": "code",
   "execution_count": null,
   "metadata": {},
   "outputs": [],
   "source": [
    "sql_results = spark.sql('SELECT Region, Offence FROM tempview WHERE crime_count > 2000')\n",
    "sql_results.limit(5).toPandas()"
   ]
  },
  {
   "cell_type": "code",
   "execution_count": 15,
   "metadata": {},
   "outputs": [
    {
     "data": {
      "text/html": [
       "<div>\n",
       "<style scoped>\n",
       "    .dataframe tbody tr th:only-of-type {\n",
       "        vertical-align: middle;\n",
       "    }\n",
       "\n",
       "    .dataframe tbody tr th {\n",
       "        vertical-align: top;\n",
       "    }\n",
       "\n",
       "    .dataframe thead th {\n",
       "        text-align: right;\n",
       "    }\n",
       "</style>\n",
       "<table border=\"1\" class=\"dataframe\">\n",
       "  <thead>\n",
       "    <tr style=\"text-align: right;\">\n",
       "      <th></th>\n",
       "      <th>Region</th>\n",
       "      <th>Total</th>\n",
       "    </tr>\n",
       "  </thead>\n",
       "  <tbody>\n",
       "    <tr>\n",
       "      <th>0</th>\n",
       "      <td>Fraud: CIFAS</td>\n",
       "      <td>7678981</td>\n",
       "    </tr>\n",
       "    <tr>\n",
       "      <th>1</th>\n",
       "      <td>North West</td>\n",
       "      <td>30235732</td>\n",
       "    </tr>\n",
       "    <tr>\n",
       "      <th>2</th>\n",
       "      <td>British Transport Police</td>\n",
       "      <td>3029117</td>\n",
       "    </tr>\n",
       "    <tr>\n",
       "      <th>3</th>\n",
       "      <td>Wales</td>\n",
       "      <td>11137260</td>\n",
       "    </tr>\n",
       "    <tr>\n",
       "      <th>4</th>\n",
       "      <td>London</td>\n",
       "      <td>42691902</td>\n",
       "    </tr>\n",
       "    <tr>\n",
       "      <th>5</th>\n",
       "      <td>South East</td>\n",
       "      <td>30911995</td>\n",
       "    </tr>\n",
       "    <tr>\n",
       "      <th>6</th>\n",
       "      <td>Fraud: Action Fraud</td>\n",
       "      <td>5921984</td>\n",
       "    </tr>\n",
       "    <tr>\n",
       "      <th>7</th>\n",
       "      <td>Fraud: UK Finance</td>\n",
       "      <td>2925861</td>\n",
       "    </tr>\n",
       "    <tr>\n",
       "      <th>8</th>\n",
       "      <td>South West</td>\n",
       "      <td>17985880</td>\n",
       "    </tr>\n",
       "    <tr>\n",
       "      <th>9</th>\n",
       "      <td>East</td>\n",
       "      <td>19890612</td>\n",
       "    </tr>\n",
       "    <tr>\n",
       "      <th>10</th>\n",
       "      <td>East Midlands</td>\n",
       "      <td>17264827</td>\n",
       "    </tr>\n",
       "    <tr>\n",
       "      <th>11</th>\n",
       "      <td>Yorkshire and The Humber</td>\n",
       "      <td>23769180</td>\n",
       "    </tr>\n",
       "    <tr>\n",
       "      <th>12</th>\n",
       "      <td>West Midlands</td>\n",
       "      <td>21040955</td>\n",
       "    </tr>\n",
       "    <tr>\n",
       "      <th>13</th>\n",
       "      <td>North East</td>\n",
       "      <td>10236642</td>\n",
       "    </tr>\n",
       "  </tbody>\n",
       "</table>\n",
       "</div>"
      ],
      "text/plain": [
       "                      Region     Total\n",
       "0               Fraud: CIFAS   7678981\n",
       "1                 North West  30235732\n",
       "2   British Transport Police   3029117\n",
       "3                      Wales  11137260\n",
       "4                     London  42691902\n",
       "5                 South East  30911995\n",
       "6        Fraud: Action Fraud   5921984\n",
       "7          Fraud: UK Finance   2925861\n",
       "8                 South West  17985880\n",
       "9                       East  19890612\n",
       "10             East Midlands  17264827\n",
       "11  Yorkshire and The Humber  23769180\n",
       "12             West Midlands  21040955\n",
       "13                North East  10236642"
      ]
     },
     "execution_count": 15,
     "metadata": {},
     "output_type": "execute_result"
    }
   ],
   "source": [
    "spark.sql('SELECT Region, sum(crime_count) AS Total FROM tempview GROUP BY Region').toPandas()"
   ]
  },
  {
   "cell_type": "code",
   "execution_count": 16,
   "metadata": {},
   "outputs": [],
   "source": [
    "from pyspark.ml.feature import SQLTransformer"
   ]
  },
  {
   "cell_type": "code",
   "execution_count": 17,
   "metadata": {},
   "outputs": [],
   "source": [
    "sqlTrans = SQLTransformer(statement='SELECT PFA, Region, Offence FROM __THIS__')"
   ]
  },
  {
   "cell_type": "code",
   "execution_count": 19,
   "metadata": {},
   "outputs": [
    {
     "name": "stdout",
     "output_type": "stream",
     "text": [
      "+-----------------+----------+-------------------------------------------------+\n",
      "|PFA              |Region    |Offence                                          |\n",
      "+-----------------+----------+-------------------------------------------------+\n",
      "|Avon and Somerset|South West|All other theft offences                         |\n",
      "|Avon and Somerset|South West|Bicycle theft                                    |\n",
      "|Avon and Somerset|South West|Criminal damage and arson                        |\n",
      "|Avon and Somerset|South West|Death or serious injury caused by illegal driving|\n",
      "|Avon and Somerset|South West|Domestic burglary                                |\n",
      "+-----------------+----------+-------------------------------------------------+\n",
      "only showing top 5 rows\n",
      "\n"
     ]
    }
   ],
   "source": [
    "sqlTrans.transform(df).show(5, truncate=False)"
   ]
  },
  {
   "cell_type": "code",
   "execution_count": 20,
   "metadata": {},
   "outputs": [
    {
     "data": {
      "text/plain": [
       "pyspark.ml.feature.SQLTransformer"
      ]
     },
     "execution_count": 20,
     "metadata": {},
     "output_type": "execute_result"
    }
   ],
   "source": [
    "type(sqlTrans)"
   ]
  },
  {
   "cell_type": "code",
   "execution_count": 29,
   "metadata": {},
   "outputs": [],
   "source": [
    "sqlTransGroup = SQLTransformer(statement='SELECT Region, sum(crime_count) AS Total FROM __THIS__ GROUP BY Region')"
   ]
  },
  {
   "cell_type": "code",
   "execution_count": 30,
   "metadata": {},
   "outputs": [
    {
     "name": "stdout",
     "output_type": "stream",
     "text": [
      "+------------------------+--------+\n",
      "|Region                  |Total   |\n",
      "+------------------------+--------+\n",
      "|Fraud: CIFAS            |7678981 |\n",
      "|North West              |30235732|\n",
      "|British Transport Police|3029117 |\n",
      "|Wales                   |11137260|\n",
      "|London                  |42691902|\n",
      "+------------------------+--------+\n",
      "only showing top 5 rows\n",
      "\n"
     ]
    }
   ],
   "source": [
    "sqlTransGroup.transform(df).show(5, truncate=False)"
   ]
  },
  {
   "cell_type": "code",
   "execution_count": 31,
   "metadata": {},
   "outputs": [],
   "source": [
    "from pyspark.sql.functions import expr"
   ]
  },
  {
   "cell_type": "code",
   "execution_count": 33,
   "metadata": {},
   "outputs": [
    {
     "name": "stdout",
     "output_type": "stream",
     "text": [
      "+----------------+\n",
      "|sum(crime_count)|\n",
      "+----------------+\n",
      "|       244720928|\n",
      "+----------------+\n",
      "\n"
     ]
    }
   ],
   "source": [
    "spark.sql('SELECT sum(crime_count) from tempview').show()"
   ]
  },
  {
   "cell_type": "code",
   "execution_count": 46,
   "metadata": {},
   "outputs": [
    {
     "name": "stdout",
     "output_type": "stream",
     "text": [
      "+---------------+-----------------+----------+-------------------------------------------------+-----------+-------+\n",
      "|12_month_ending|PFA              |Region    |Offence                                          |crime_count|percent|\n",
      "+---------------+-----------------+----------+-------------------------------------------------+-----------+-------+\n",
      "|31/03/2003     |Avon and Somerset|South West|All other theft offences                         |25959      |0.01   |\n",
      "|31/03/2003     |Avon and Somerset|South West|Bicycle theft                                    |3090       |0.0    |\n",
      "|31/03/2003     |Avon and Somerset|South West|Criminal damage and arson                        |26202      |0.01   |\n",
      "|31/03/2003     |Avon and Somerset|South West|Death or serious injury caused by illegal driving|2          |0.0    |\n",
      "|31/03/2003     |Avon and Somerset|South West|Domestic burglary                                |14561      |0.01   |\n",
      "|31/03/2003     |Avon and Somerset|South West|Drug offences                                    |2308       |0.0    |\n",
      "|31/03/2003     |Avon and Somerset|South West|Fraud offences                                   |5339       |0.0    |\n",
      "|31/03/2003     |Avon and Somerset|South West|Homicide                                         |19         |0.0    |\n",
      "|31/03/2003     |Avon and Somerset|South West|Miscellaneous crimes against society             |1597       |0.0    |\n",
      "|31/03/2003     |Avon and Somerset|South West|Non-domestic burglary                            |15621      |0.01   |\n",
      "|31/03/2003     |Avon and Somerset|South West|Possession of weapons offences                   |735        |0.0    |\n",
      "|31/03/2003     |Avon and Somerset|South West|Public order offences                            |4025       |0.0    |\n",
      "|31/03/2003     |Avon and Somerset|South West|Robbery                                          |3504       |0.0    |\n",
      "|31/03/2003     |Avon and Somerset|South West|Sexual offences                                  |1737       |0.0    |\n",
      "|31/03/2003     |Avon and Somerset|South West|Shoplifting                                      |8410       |0.0    |\n",
      "|31/03/2003     |Avon and Somerset|South West|Stalking and harassment                          |740        |0.0    |\n",
      "|31/03/2003     |Avon and Somerset|South West|Theft from the person                            |2554       |0.0    |\n",
      "|31/03/2003     |Avon and Somerset|South West|Vehicle offences                                 |41781      |0.02   |\n",
      "|31/03/2003     |Avon and Somerset|South West|Violence with injury                             |8565       |0.0    |\n",
      "|31/03/2003     |Avon and Somerset|South West|Violence without injury                          |7117       |0.0    |\n",
      "+---------------+-----------------+----------+-------------------------------------------------+-----------+-------+\n",
      "only showing top 20 rows\n",
      "\n"
     ]
    }
   ],
   "source": [
    "df_percent = df.withColumn('percent', expr('round((crime_count/244720928)*100, 2)'))\n",
    "\n",
    "df_percent.show(truncate=False)"
   ]
  },
  {
   "cell_type": "code",
   "execution_count": 48,
   "metadata": {},
   "outputs": [
    {
     "name": "stdout",
     "output_type": "stream",
     "text": [
      "+---------------+------------+-------------------+------------+-----------+-------+\n",
      "|12_month_ending|PFA         |Region             |Offence     |crime_count|percent|\n",
      "+---------------+------------+-------------------+------------+-----------+-------+\n",
      "|31/12/2018     |Action Fraud|Fraud: Action Fraud|Action Fraud|306126     |0.13   |\n",
      "|31/03/2017     |CIFAS       |Fraud: CIFAS       |CIFAS       |306195     |0.13   |\n",
      "|30/06/2016     |CIFAS       |Fraud: CIFAS       |CIFAS       |308901     |0.13   |\n",
      "|30/09/2015     |CIFAS       |Fraud: CIFAS       |CIFAS       |283654     |0.12   |\n",
      "|30/06/2018     |Action Fraud|Fraud: Action Fraud|Action Fraud|285070     |0.12   |\n",
      "|31/03/2016     |CIFAS       |Fraud: CIFAS       |CIFAS       |298968     |0.12   |\n",
      "|31/12/2015     |CIFAS       |Fraud: CIFAS       |CIFAS       |295525     |0.12   |\n",
      "|30/12/2017     |CIFAS       |Fraud: CIFAS       |CIFAS       |283288     |0.12   |\n",
      "|30/09/2018     |Action Fraud|Fraud: Action Fraud|Action Fraud|295549     |0.12   |\n",
      "|31/12/2018     |CIFAS       |Fraud: CIFAS       |CIFAS       |296896     |0.12   |\n",
      "|30/09/2016     |CIFAS       |Fraud: CIFAS       |CIFAS       |294740     |0.12   |\n",
      "|31/12/2016     |CIFAS       |Fraud: CIFAS       |CIFAS       |303145     |0.12   |\n",
      "|30/06/2017     |CIFAS       |Fraud: CIFAS       |CIFAS       |297195     |0.12   |\n",
      "|30/09/2017     |CIFAS       |Fraud: CIFAS       |CIFAS       |301766     |0.12   |\n",
      "|31/03/2017     |Action Fraud|Fraud: Action Fraud|Action Fraud|261943     |0.11   |\n",
      "|31/03/2015     |CIFAS       |Fraud: CIFAS       |CIFAS       |257762     |0.11   |\n",
      "|30/06/2015     |CIFAS       |Fraud: CIFAS       |CIFAS       |266701     |0.11   |\n",
      "|30/12/2017     |Action Fraud|Fraud: Action Fraud|Action Fraud|272756     |0.11   |\n",
      "|30/06/2017     |Action Fraud|Fraud: Action Fraud|Action Fraud|267344     |0.11   |\n",
      "|31/03/2018     |Action Fraud|Fraud: Action Fraud|Action Fraud|277033     |0.11   |\n",
      "+---------------+------------+-------------------+------------+-----------+-------+\n",
      "only showing top 20 rows\n",
      "\n"
     ]
    }
   ],
   "source": [
    "df_percent.orderBy(df_percent['percent'].desc()).show(truncate=False)"
   ]
  },
  {
   "cell_type": "code",
   "execution_count": 51,
   "metadata": {},
   "outputs": [
    {
     "data": {
      "text/html": [
       "<div>\n",
       "<style scoped>\n",
       "    .dataframe tbody tr th:only-of-type {\n",
       "        vertical-align: middle;\n",
       "    }\n",
       "\n",
       "    .dataframe tbody tr th {\n",
       "        vertical-align: top;\n",
       "    }\n",
       "\n",
       "    .dataframe thead th {\n",
       "        text-align: right;\n",
       "    }\n",
       "</style>\n",
       "<table border=\"1\" class=\"dataframe\">\n",
       "  <thead>\n",
       "    <tr style=\"text-align: right;\">\n",
       "      <th></th>\n",
       "      <th>12_month_ending</th>\n",
       "      <th>PFA</th>\n",
       "      <th>Region</th>\n",
       "      <th>Offence</th>\n",
       "      <th>crime_count</th>\n",
       "      <th>percent</th>\n",
       "    </tr>\n",
       "  </thead>\n",
       "  <tbody>\n",
       "    <tr>\n",
       "      <th>0</th>\n",
       "      <td>31/03/2003</td>\n",
       "      <td>Avon and Somerset</td>\n",
       "      <td>South West</td>\n",
       "      <td>All other theft offences</td>\n",
       "      <td>25959</td>\n",
       "      <td>0.01</td>\n",
       "    </tr>\n",
       "    <tr>\n",
       "      <th>1</th>\n",
       "      <td>31/03/2003</td>\n",
       "      <td>Avon and Somerset</td>\n",
       "      <td>South West</td>\n",
       "      <td>Bicycle theft</td>\n",
       "      <td>3090</td>\n",
       "      <td>0.00</td>\n",
       "    </tr>\n",
       "    <tr>\n",
       "      <th>2</th>\n",
       "      <td>31/03/2003</td>\n",
       "      <td>Avon and Somerset</td>\n",
       "      <td>South West</td>\n",
       "      <td>Criminal damage and arson</td>\n",
       "      <td>26202</td>\n",
       "      <td>0.01</td>\n",
       "    </tr>\n",
       "    <tr>\n",
       "      <th>3</th>\n",
       "      <td>31/03/2003</td>\n",
       "      <td>Avon and Somerset</td>\n",
       "      <td>South West</td>\n",
       "      <td>Death or serious injury caused by illegal driving</td>\n",
       "      <td>2</td>\n",
       "      <td>0.00</td>\n",
       "    </tr>\n",
       "    <tr>\n",
       "      <th>4</th>\n",
       "      <td>31/03/2003</td>\n",
       "      <td>Avon and Somerset</td>\n",
       "      <td>South West</td>\n",
       "      <td>Domestic burglary</td>\n",
       "      <td>14561</td>\n",
       "      <td>0.01</td>\n",
       "    </tr>\n",
       "    <tr>\n",
       "      <th>...</th>\n",
       "      <td>...</td>\n",
       "      <td>...</td>\n",
       "      <td>...</td>\n",
       "      <td>...</td>\n",
       "      <td>...</td>\n",
       "      <td>...</td>\n",
       "    </tr>\n",
       "    <tr>\n",
       "      <th>5265</th>\n",
       "      <td>31/12/2018</td>\n",
       "      <td>Wiltshire</td>\n",
       "      <td>South West</td>\n",
       "      <td>Stalking and harassment</td>\n",
       "      <td>2380</td>\n",
       "      <td>0.00</td>\n",
       "    </tr>\n",
       "    <tr>\n",
       "      <th>5266</th>\n",
       "      <td>31/12/2018</td>\n",
       "      <td>Wiltshire</td>\n",
       "      <td>South West</td>\n",
       "      <td>Theft from the person</td>\n",
       "      <td>347</td>\n",
       "      <td>0.00</td>\n",
       "    </tr>\n",
       "    <tr>\n",
       "      <th>5267</th>\n",
       "      <td>31/12/2018</td>\n",
       "      <td>Wiltshire</td>\n",
       "      <td>South West</td>\n",
       "      <td>Vehicle offences</td>\n",
       "      <td>2895</td>\n",
       "      <td>0.00</td>\n",
       "    </tr>\n",
       "    <tr>\n",
       "      <th>5268</th>\n",
       "      <td>31/12/2018</td>\n",
       "      <td>Wiltshire</td>\n",
       "      <td>South West</td>\n",
       "      <td>Violence with injury</td>\n",
       "      <td>5701</td>\n",
       "      <td>0.00</td>\n",
       "    </tr>\n",
       "    <tr>\n",
       "      <th>5269</th>\n",
       "      <td>31/12/2018</td>\n",
       "      <td>Wiltshire</td>\n",
       "      <td>South West</td>\n",
       "      <td>Violence without injury</td>\n",
       "      <td>5840</td>\n",
       "      <td>0.00</td>\n",
       "    </tr>\n",
       "  </tbody>\n",
       "</table>\n",
       "<p>5270 rows × 6 columns</p>\n",
       "</div>"
      ],
      "text/plain": [
       "     12_month_ending                PFA      Region  \\\n",
       "0         31/03/2003  Avon and Somerset  South West   \n",
       "1         31/03/2003  Avon and Somerset  South West   \n",
       "2         31/03/2003  Avon and Somerset  South West   \n",
       "3         31/03/2003  Avon and Somerset  South West   \n",
       "4         31/03/2003  Avon and Somerset  South West   \n",
       "...              ...                ...         ...   \n",
       "5265      31/12/2018          Wiltshire  South West   \n",
       "5266      31/12/2018          Wiltshire  South West   \n",
       "5267      31/12/2018          Wiltshire  South West   \n",
       "5268      31/12/2018          Wiltshire  South West   \n",
       "5269      31/12/2018          Wiltshire  South West   \n",
       "\n",
       "                                                Offence  crime_count  percent  \n",
       "0                              All other theft offences        25959     0.01  \n",
       "1                                         Bicycle theft         3090     0.00  \n",
       "2                             Criminal damage and arson        26202     0.01  \n",
       "3     Death or serious injury caused by illegal driving            2     0.00  \n",
       "4                                     Domestic burglary        14561     0.01  \n",
       "...                                                 ...          ...      ...  \n",
       "5265                            Stalking and harassment         2380     0.00  \n",
       "5266                              Theft from the person          347     0.00  \n",
       "5267                                   Vehicle offences         2895     0.00  \n",
       "5268                               Violence with injury         5701     0.00  \n",
       "5269                            Violence without injury         5840     0.00  \n",
       "\n",
       "[5270 rows x 6 columns]"
      ]
     },
     "execution_count": 51,
     "metadata": {},
     "output_type": "execute_result"
    }
   ],
   "source": [
    "df.selectExpr('*', 'round((crime_count/244720928)*100, 2) as percent').filter(\"Region = 'South West'\").toPandas()"
   ]
  }
 ],
 "metadata": {
  "interpreter": {
   "hash": "b8cc1517acdd3e5689b07172fdd610a65168028fc7c25c5c6742533cfa50c0d8"
  },
  "kernelspec": {
   "display_name": "Python 3.8.10 ('spark-sql-options-Aq0ym5-T-py3.8')",
   "language": "python",
   "name": "python3"
  },
  "language_info": {
   "codemirror_mode": {
    "name": "ipython",
    "version": 3
   },
   "file_extension": ".py",
   "mimetype": "text/x-python",
   "name": "python",
   "nbconvert_exporter": "python",
   "pygments_lexer": "ipython3",
   "version": "3.8.10"
  },
  "orig_nbformat": 4
 },
 "nbformat": 4,
 "nbformat_minor": 2
}
